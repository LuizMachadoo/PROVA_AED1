{
 "cells": [
  {
   "cell_type": "code",
   "execution_count": 38,
   "id": "bbafa7f4",
   "metadata": {
    "scrolled": false
   },
   "outputs": [
    {
     "name": "stdout",
     "output_type": "stream",
     "text": [
      "Bem Vindo a Calculadora de Médias Aritméticas!\n",
      "______________________________________________\n",
      "Digite a sua nota 1: 10\n",
      "Digite a sua nota 2: 8\n",
      "Digite a sua nota 3: 9\n",
      "A sua média foi de: 9.0\n"
     ]
    }
   ],
   "source": [
    "print(\"Bem Vindo a Calculadora de Médias Aritméticas!\")\n",
    "print(\"______________________________________________\")\n",
    "\n",
    "n1 = int(input(\"Digite a sua nota 1: \"))\n",
    "n2 = int(input(\"Digite a sua nota 2: \"))\n",
    "n3 = int(input(\"Digite a sua nota 3: \"))\n",
    "\n",
    "if n1 > n2 and n1 > n3 and n2 > n3:\n",
    "    mediamaior = (n1 + n2)/2\n",
    "    print(\"A sua média foi de:\" ,mediamaior)\n",
    "    \n",
    "elif n2 > n3 and n2 > n1 and n3 > n1:\n",
    "    mediamaior2 = (n2 + n3)/2\n",
    "    print(\"A sua média foi de:\" ,mediamaior2)\n",
    "    \n",
    "if n1 > n3 and n1 > n2 and n3 > n2:\n",
    "    mediamaior3 = (n1 + n2)/2\n",
    "    print(\"A sua média foi de:\" ,mediamaior3)\n",
    "    \n",
    "else:\n",
    "    print(\"deu erro\")\n"
   ]
  },
  {
   "cell_type": "code",
   "execution_count": null,
   "id": "4de94f3c",
   "metadata": {
    "scrolled": true
   },
   "outputs": [],
   "source": []
  },
  {
   "cell_type": "code",
   "execution_count": null,
   "id": "5180d848",
   "metadata": {},
   "outputs": [],
   "source": []
  }
 ],
 "metadata": {
  "kernelspec": {
   "display_name": "Python 3 (ipykernel)",
   "language": "python",
   "name": "python3"
  },
  "language_info": {
   "codemirror_mode": {
    "name": "ipython",
    "version": 3
   },
   "file_extension": ".py",
   "mimetype": "text/x-python",
   "name": "python",
   "nbconvert_exporter": "python",
   "pygments_lexer": "ipython3",
   "version": "3.11.5"
  }
 },
 "nbformat": 4,
 "nbformat_minor": 5
}
